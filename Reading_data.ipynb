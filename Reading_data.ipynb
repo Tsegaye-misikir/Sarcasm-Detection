{
 "cells": [
  {
   "cell_type": "code",
   "execution_count": null,
   "metadata": {},
   "outputs": [],
   "source": [
    "try:\n",
    "    ! pip install wget\n",
    "except:\n",
    "    ! pip install wget"
   ]
  },
  {
   "cell_type": "code",
   "execution_count": null,
   "metadata": {},
   "outputs": [],
   "source": [
    "import wget\n",
    "import os\n",
    "import pandas as pd\n",
    "import numpy as np"
   ]
  },
  {
   "cell_type": "code",
   "execution_count": null,
   "metadata": {},
   "outputs": [],
   "source": [
    "url = \"https://raw.githubusercontent.com/przhang/Sarcasm-Detection/master/res/datasets/ghosh/\"\n",
    "\n",
    "dataset = [\"tokens_train.txt\",\"labels_train.txt\",\"tokens_test.txt\",\"labels_test.txt\"]\n",
    "\n",
    "for filename in dataset:\n",
    "  wget.download(url + filename)"
   ]
  },
  {
   "cell_type": "code",
   "execution_count": null,
   "metadata": {},
   "outputs": [],
   "source": [
    "X_train_data = open('tokens_train.txt','r', encoding= 'utf8').readlines()\n",
    "X_test_data = open('tokens_test.txt', 'r', encoding='utf8').readlines()"
   ]
  },
  {
   "cell_type": "code",
   "execution_count": null,
   "metadata": {},
   "outputs": [],
   "source": [
    "y_train_labels = [int(l) for l in open('labels_train.txt','r', encoding='utf8').readlines()]\n",
    "y_test_labels = [int(l) for l in open('labels_test.txt','r',encoding='utf8').readlines()]"
   ]
  }
 ],
 "metadata": {
  "kernelspec": {
   "display_name": "Python 3",
   "language": "python",
   "name": "python3"
  },
  "language_info": {
   "codemirror_mode": {
    "name": "ipython",
    "version": 3
   },
   "file_extension": ".py",
   "mimetype": "text/x-python",
   "name": "python",
   "nbconvert_exporter": "python",
   "pygments_lexer": "ipython3",
   "version": "3.7.4"
  }
 },
 "nbformat": 4,
 "nbformat_minor": 2
}
