{
  "nbformat": 4,
  "nbformat_minor": 0,
  "metadata": {
    "colab": {
      "name": "SarcDeepL.ipynb",
      "provenance": [],
      "authorship_tag": "ABX9TyOmyIIz5l8pm903K/MlnsyW",
      "include_colab_link": true
    },
    "kernelspec": {
      "name": "python3",
      "display_name": "Python 3"
    }
  },
  "cells": [
    {
      "cell_type": "markdown",
      "metadata": {
        "id": "view-in-github",
        "colab_type": "text"
      },
      "source": [
        "<a href=\"https://colab.research.google.com/github/Sakina8/Sarcasm-Detection-1/blob/master/SarcDeepL.ipynb\" target=\"_parent\"><img src=\"https://colab.research.google.com/assets/colab-badge.svg\" alt=\"Open In Colab\"/></a>"
      ]
    },
    {
      "cell_type": "code",
      "metadata": {
        "id": "WvwvZ2_HdN-F",
        "colab_type": "code",
        "colab": {}
      },
      "source": [
        "## Sarcasm - To be continued by Sakina Hajiyeva"
      ],
      "execution_count": 0,
      "outputs": []
    },
    {
      "cell_type": "markdown",
      "metadata": {
        "id": "MTCKgBPvdS1M",
        "colab_type": "text"
      },
      "source": [
        "Here I decided to continue my investigation on sarcasm detection and thought to myself why not to use Deep learning with Tensorflow just to make sure the process is quicker and with higher quality."
      ]
    },
    {
      "cell_type": "code",
      "metadata": {
        "id": "m9MHdpxadszU",
        "colab_type": "code",
        "colab": {}
      },
      "source": [
        "#But before that I should import libraries and make some small preprocessing in this notebook\n",
        "\n",
        "import pandas as pd\n",
        "from sklearn.model_selection import train_test_split"
      ],
      "execution_count": 0,
      "outputs": []
    },
    {
      "cell_type": "code",
      "metadata": {
        "id": "bxQTo1RdeQq-",
        "colab_type": "code",
        "outputId": "fe5a65da-651e-4521-996a-2a2688b3589b",
        "colab": {
          "base_uri": "https://localhost:8080/",
          "height": 122
        }
      },
      "source": [
        "#Gonna bring the dataset here\n",
        "\n",
        "from google.colab import drive\n",
        "drive.mount('/content/drive')"
      ],
      "execution_count": 0,
      "outputs": [
        {
          "output_type": "stream",
          "text": [
            "Go to this URL in a browser: https://accounts.google.com/o/oauth2/auth?client_id=947318989803-6bn6qk8qdgf4n4g3pfee6491hc0brc4i.apps.googleusercontent.com&redirect_uri=urn%3aietf%3awg%3aoauth%3a2.0%3aoob&response_type=code&scope=email%20https%3a%2f%2fwww.googleapis.com%2fauth%2fdocs.test%20https%3a%2f%2fwww.googleapis.com%2fauth%2fdrive%20https%3a%2f%2fwww.googleapis.com%2fauth%2fdrive.photos.readonly%20https%3a%2f%2fwww.googleapis.com%2fauth%2fpeopleapi.readonly\n",
            "\n",
            "Enter your authorization code:\n",
            "··········\n",
            "Mounted at /content/drive\n"
          ],
          "name": "stdout"
        }
      ]
    },
    {
      "cell_type": "code",
      "metadata": {
        "id": "6mJ90SpFebwo",
        "colab_type": "code",
        "outputId": "268927cc-a0b3-4b2e-aa9a-de3166aec200",
        "colab": {
          "resources": {
            "http://localhost:8080/nbextensions/google.colab/files.js": {
              "data": "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",
              "ok": true,
              "headers": [
                [
                  "content-type",
                  "application/javascript"
                ]
              ],
              "status": 200,
              "status_text": ""
            }
          },
          "base_uri": "https://localhost:8080/",
          "height": 91
        }
      },
      "source": [
        "from google.colab import files\n",
        "\n",
        "uploaded = files.upload()\n",
        "\n",
        "for fn in uploaded.keys():\n",
        "  print('User uploaded file \"{name}\" with length {length} bytes'.format(\n",
        "      name=fn, length=len(uploaded[fn])))"
      ],
      "execution_count": 0,
      "outputs": [
        {
          "output_type": "display_data",
          "data": {
            "text/html": [
              "\n",
              "     <input type=\"file\" id=\"files-f1fd0685-1bc1-4736-bbf2-17b51c58d336\" name=\"files[]\" multiple disabled />\n",
              "     <output id=\"result-f1fd0685-1bc1-4736-bbf2-17b51c58d336\">\n",
              "      Upload widget is only available when the cell has been executed in the\n",
              "      current browser session. Please rerun this cell to enable.\n",
              "      </output>\n",
              "      <script src=\"/nbextensions/google.colab/files.js\"></script> "
            ],
            "text/plain": [
              "<IPython.core.display.HTML object>"
            ]
          },
          "metadata": {
            "tags": []
          }
        },
        {
          "output_type": "stream",
          "text": [
            "Saving train-balanced-sarcasm.csv to train-balanced-sarcasm.csv\n",
            "User uploaded file \"train-balanced-sarcasm.csv\" with length 255268960 bytes\n"
          ],
          "name": "stdout"
        }
      ]
    },
    {
      "cell_type": "code",
      "metadata": {
        "id": "6N66KIpBe1dp",
        "colab_type": "code",
        "outputId": "3bb0580e-531c-4054-9cb5-ab8671d27519",
        "colab": {
          "base_uri": "https://localhost:8080/",
          "height": 589
        }
      },
      "source": [
        "data = pd.read_csv('train-balanced-sarcasm.csv')\n",
        "data"
      ],
      "execution_count": 0,
      "outputs": [
        {
          "output_type": "execute_result",
          "data": {
            "text/html": [
              "<div>\n",
              "<style scoped>\n",
              "    .dataframe tbody tr th:only-of-type {\n",
              "        vertical-align: middle;\n",
              "    }\n",
              "\n",
              "    .dataframe tbody tr th {\n",
              "        vertical-align: top;\n",
              "    }\n",
              "\n",
              "    .dataframe thead th {\n",
              "        text-align: right;\n",
              "    }\n",
              "</style>\n",
              "<table border=\"1\" class=\"dataframe\">\n",
              "  <thead>\n",
              "    <tr style=\"text-align: right;\">\n",
              "      <th></th>\n",
              "      <th>label</th>\n",
              "      <th>comment</th>\n",
              "      <th>author</th>\n",
              "      <th>subreddit</th>\n",
              "      <th>score</th>\n",
              "      <th>ups</th>\n",
              "      <th>downs</th>\n",
              "      <th>date</th>\n",
              "      <th>created_utc</th>\n",
              "      <th>parent_comment</th>\n",
              "    </tr>\n",
              "  </thead>\n",
              "  <tbody>\n",
              "    <tr>\n",
              "      <th>0</th>\n",
              "      <td>0</td>\n",
              "      <td>NC and NH.</td>\n",
              "      <td>Trumpbart</td>\n",
              "      <td>politics</td>\n",
              "      <td>2</td>\n",
              "      <td>-1</td>\n",
              "      <td>-1</td>\n",
              "      <td>2016-10</td>\n",
              "      <td>2016-10-16 23:55:23</td>\n",
              "      <td>Yeah, I get that argument. At this point, I'd ...</td>\n",
              "    </tr>\n",
              "    <tr>\n",
              "      <th>1</th>\n",
              "      <td>0</td>\n",
              "      <td>You do know west teams play against west teams...</td>\n",
              "      <td>Shbshb906</td>\n",
              "      <td>nba</td>\n",
              "      <td>-4</td>\n",
              "      <td>-1</td>\n",
              "      <td>-1</td>\n",
              "      <td>2016-11</td>\n",
              "      <td>2016-11-01 00:24:10</td>\n",
              "      <td>The blazers and Mavericks (The wests 5 and 6 s...</td>\n",
              "    </tr>\n",
              "    <tr>\n",
              "      <th>2</th>\n",
              "      <td>0</td>\n",
              "      <td>They were underdogs earlier today, but since G...</td>\n",
              "      <td>Creepeth</td>\n",
              "      <td>nfl</td>\n",
              "      <td>3</td>\n",
              "      <td>3</td>\n",
              "      <td>0</td>\n",
              "      <td>2016-09</td>\n",
              "      <td>2016-09-22 21:45:37</td>\n",
              "      <td>They're favored to win.</td>\n",
              "    </tr>\n",
              "    <tr>\n",
              "      <th>3</th>\n",
              "      <td>0</td>\n",
              "      <td>This meme isn't funny none of the \"new york ni...</td>\n",
              "      <td>icebrotha</td>\n",
              "      <td>BlackPeopleTwitter</td>\n",
              "      <td>-8</td>\n",
              "      <td>-1</td>\n",
              "      <td>-1</td>\n",
              "      <td>2016-10</td>\n",
              "      <td>2016-10-18 21:03:47</td>\n",
              "      <td>deadass don't kill my buzz</td>\n",
              "    </tr>\n",
              "    <tr>\n",
              "      <th>4</th>\n",
              "      <td>0</td>\n",
              "      <td>I could use one of those tools.</td>\n",
              "      <td>cush2push</td>\n",
              "      <td>MaddenUltimateTeam</td>\n",
              "      <td>6</td>\n",
              "      <td>-1</td>\n",
              "      <td>-1</td>\n",
              "      <td>2016-12</td>\n",
              "      <td>2016-12-30 17:00:13</td>\n",
              "      <td>Yep can confirm I saw the tool they use for th...</td>\n",
              "    </tr>\n",
              "    <tr>\n",
              "      <th>...</th>\n",
              "      <td>...</td>\n",
              "      <td>...</td>\n",
              "      <td>...</td>\n",
              "      <td>...</td>\n",
              "      <td>...</td>\n",
              "      <td>...</td>\n",
              "      <td>...</td>\n",
              "      <td>...</td>\n",
              "      <td>...</td>\n",
              "      <td>...</td>\n",
              "    </tr>\n",
              "    <tr>\n",
              "      <th>1010821</th>\n",
              "      <td>1</td>\n",
              "      <td>I'm sure that Iran and N. Korea have the techn...</td>\n",
              "      <td>TwarkMain</td>\n",
              "      <td>reddit.com</td>\n",
              "      <td>2</td>\n",
              "      <td>2</td>\n",
              "      <td>0</td>\n",
              "      <td>2009-04</td>\n",
              "      <td>2009-04-25 00:47:52</td>\n",
              "      <td>No one is calling this an engineered pathogen,...</td>\n",
              "    </tr>\n",
              "    <tr>\n",
              "      <th>1010822</th>\n",
              "      <td>1</td>\n",
              "      <td>whatever you do, don't vote green!</td>\n",
              "      <td>BCHarvey</td>\n",
              "      <td>climate</td>\n",
              "      <td>1</td>\n",
              "      <td>1</td>\n",
              "      <td>0</td>\n",
              "      <td>2009-05</td>\n",
              "      <td>2009-05-14 22:27:40</td>\n",
              "      <td>In a move typical of their recent do-nothing a...</td>\n",
              "    </tr>\n",
              "    <tr>\n",
              "      <th>1010823</th>\n",
              "      <td>1</td>\n",
              "      <td>Perhaps this is an atheist conspiracy to make ...</td>\n",
              "      <td>rebelcommander</td>\n",
              "      <td>atheism</td>\n",
              "      <td>1</td>\n",
              "      <td>1</td>\n",
              "      <td>0</td>\n",
              "      <td>2009-01</td>\n",
              "      <td>2009-01-11 00:22:57</td>\n",
              "      <td>Screw the Disabled--I've got to get to Church ...</td>\n",
              "    </tr>\n",
              "    <tr>\n",
              "      <th>1010824</th>\n",
              "      <td>1</td>\n",
              "      <td>The Slavs got their own country - it is called...</td>\n",
              "      <td>catsi</td>\n",
              "      <td>worldnews</td>\n",
              "      <td>1</td>\n",
              "      <td>1</td>\n",
              "      <td>0</td>\n",
              "      <td>2009-01</td>\n",
              "      <td>2009-01-23 21:12:49</td>\n",
              "      <td>I've always been unsettled by that. I hear a l...</td>\n",
              "    </tr>\n",
              "    <tr>\n",
              "      <th>1010825</th>\n",
              "      <td>1</td>\n",
              "      <td>values, as in capitalism .. there is good mone...</td>\n",
              "      <td>frogking</td>\n",
              "      <td>politics</td>\n",
              "      <td>2</td>\n",
              "      <td>2</td>\n",
              "      <td>0</td>\n",
              "      <td>2009-01</td>\n",
              "      <td>2009-01-24 06:20:14</td>\n",
              "      <td>Why do the people who make our laws seem unabl...</td>\n",
              "    </tr>\n",
              "  </tbody>\n",
              "</table>\n",
              "<p>1010826 rows × 10 columns</p>\n",
              "</div>"
            ],
            "text/plain": [
              "         label  ...                                     parent_comment\n",
              "0            0  ...  Yeah, I get that argument. At this point, I'd ...\n",
              "1            0  ...  The blazers and Mavericks (The wests 5 and 6 s...\n",
              "2            0  ...                            They're favored to win.\n",
              "3            0  ...                         deadass don't kill my buzz\n",
              "4            0  ...  Yep can confirm I saw the tool they use for th...\n",
              "...        ...  ...                                                ...\n",
              "1010821      1  ...  No one is calling this an engineered pathogen,...\n",
              "1010822      1  ...  In a move typical of their recent do-nothing a...\n",
              "1010823      1  ...  Screw the Disabled--I've got to get to Church ...\n",
              "1010824      1  ...  I've always been unsettled by that. I hear a l...\n",
              "1010825      1  ...  Why do the people who make our laws seem unabl...\n",
              "\n",
              "[1010826 rows x 10 columns]"
            ]
          },
          "metadata": {
            "tags": []
          },
          "execution_count": 7
        }
      ]
    },
    {
      "cell_type": "code",
      "metadata": {
        "id": "9ekdCcB-y4NL",
        "colab_type": "code",
        "outputId": "52af85a1-bccf-452c-cffb-c6ee7eb5dbac",
        "colab": {
          "base_uri": "https://localhost:8080/",
          "height": 34
        }
      },
      "source": [
        "data.shape"
      ],
      "execution_count": 0,
      "outputs": [
        {
          "output_type": "execute_result",
          "data": {
            "text/plain": [
              "(1010826, 10)"
            ]
          },
          "metadata": {
            "tags": []
          },
          "execution_count": 9
        }
      ]
    },
    {
      "cell_type": "code",
      "metadata": {
        "id": "OZdFgJiuy_1V",
        "colab_type": "code",
        "outputId": "89f571f2-d62f-44cf-e59c-6e40f36775d8",
        "colab": {
          "base_uri": "https://localhost:8080/",
          "height": 68
        }
      },
      "source": [
        "data['label'].value_counts()"
      ],
      "execution_count": 0,
      "outputs": [
        {
          "output_type": "execute_result",
          "data": {
            "text/plain": [
              "1    505413\n",
              "0    505413\n",
              "Name: label, dtype: int64"
            ]
          },
          "metadata": {
            "tags": []
          },
          "execution_count": 10
        }
      ]
    },
    {
      "cell_type": "code",
      "metadata": {
        "id": "9n5lEI84zLp9",
        "colab_type": "code",
        "colab": {}
      },
      "source": [
        "data_pos = data[data['label'] == 1]\n",
        "data_neg = data[data['label'] == 0]"
      ],
      "execution_count": 0,
      "outputs": []
    },
    {
      "cell_type": "code",
      "metadata": {
        "id": "-xJVNqL6zUoP",
        "colab_type": "code",
        "colab": {}
      },
      "source": [
        "# let's divide dataset into train, cv, and test\n",
        "data_pos_tr = data_pos.iloc[:450000]\n",
        "\n",
        "data_pos_cv = data_pos_tr.iloc[400000:450000]\n",
        "data_pos_tr = data_pos_tr.iloc[:400000]\n",
        "\n",
        "data_pos_test = data_pos.iloc[450000:500000]\n",
        "\n",
        "data_neg_tr = data_neg.iloc[:450000]\n",
        "\n",
        "data_neg_cv = data_neg_tr.iloc[400000:450000]\n",
        "data_neg_tr = data_neg_tr.iloc[:400000]\n",
        "\n",
        "data_neg_test = data_neg.iloc[450000:500000]"
      ],
      "execution_count": 0,
      "outputs": []
    },
    {
      "cell_type": "code",
      "metadata": {
        "id": "e_x9lgvVzhPP",
        "colab_type": "code",
        "colab": {}
      },
      "source": [
        "data_tr = pd.concat([data_pos_tr, data_neg_tr])\n",
        "data_cv = pd.concat([data_pos_cv, data_neg_cv])\n",
        "data_test = pd.concat([data_pos_test, data_neg_test])"
      ],
      "execution_count": 0,
      "outputs": []
    },
    {
      "cell_type": "code",
      "metadata": {
        "id": "KCl0oN1Nzlg5",
        "colab_type": "code",
        "outputId": "d35af00c-9134-4be0-ebb8-a1e4c5b2e1a9",
        "colab": {
          "base_uri": "https://localhost:8080/",
          "height": 68
        }
      },
      "source": [
        "# let's see the result\n",
        "\n",
        "print('Shape of train data: {}'.format(data_tr.shape))\n",
        "print('Shape of CV data: {}'.format(data_cv.shape))\n",
        "print('Shape of test data: {}'.format(data_test.shape))"
      ],
      "execution_count": 0,
      "outputs": [
        {
          "output_type": "stream",
          "text": [
            "Shape of train data: (800000, 10)\n",
            "Shape of CV data: (100000, 10)\n",
            "Shape of test data: (100000, 10)\n"
          ],
          "name": "stdout"
        }
      ]
    },
    {
      "cell_type": "code",
      "metadata": {
        "id": "kA4pyWnOzq_w",
        "colab_type": "code",
        "colab": {}
      },
      "source": [
        "data_tr.to_csv('train.csv', index=False)\n",
        "data_cv.to_csv('cv.csv', index=False)\n",
        "data_test.to_csv('test.csv', index=False)"
      ],
      "execution_count": 0,
      "outputs": []
    },
    {
      "cell_type": "code",
      "metadata": {
        "id": "fohjcpjuzxaB",
        "colab_type": "code",
        "outputId": "f7df4234-8cd6-4fc5-e33c-4eefb19edc66",
        "colab": {
          "base_uri": "https://localhost:8080/",
          "height": 71
        }
      },
      "source": [
        "# This time I'll clean the data quickly\n",
        "\n",
        "#importing libraries coz I can be very forgetful\n",
        "\n",
        "import dask.dataframe as dd\n",
        "import numpy as np\n",
        "import matplotlib.pyplot as plt\n",
        "from tqdm import tqdm_notebook\n",
        "import seaborn as sns\n",
        "from wordcloud import WordCloud, STOPWORDS\n",
        "import re\n",
        "import math\n",
        "import pickle\n",
        "import os\n",
        "\n",
        "from gensim.models import KeyedVectors\n",
        "from gensim.models.doc2vec import TaggedDocument\n",
        "import gensim\n",
        "\n",
        "from sklearn.metrics import confusion_matrix\n",
        "from sklearn.feature_extraction.text import CountVectorizer\n",
        "from sklearn.naive_bayes import MultinomialNB\n",
        "from sklearn.model_selection import GridSearchCV\n",
        "from sklearn.model_selection import train_test_split\n",
        "from sklearn.metrics import confusion_matrix\n",
        "from sklearn import metrics\n",
        "from sklearn.metrics import roc_curve, auc\n",
        "from sklearn.feature_extraction.text import TfidfVectorizer\n",
        "from sklearn.metrics import f1_score\n",
        "\n",
        "\n",
        "import warnings\n",
        "warnings.filterwarnings('ignore')\n"
      ],
      "execution_count": 0,
      "outputs": [
        {
          "output_type": "stream",
          "text": [
            "/usr/local/lib/python3.6/dist-packages/statsmodels/tools/_testing.py:19: FutureWarning: pandas.util.testing is deprecated. Use the functions in the public API at pandas.testing instead.\n",
            "  import pandas.util.testing as tm\n"
          ],
          "name": "stderr"
        }
      ]
    },
    {
      "cell_type": "code",
      "metadata": {
        "id": "ySI8urr40Xel",
        "colab_type": "code",
        "colab": {}
      },
      "source": [
        "def savetofile(obj,filename):\n",
        "    pickle.dump(obj,open(filename+\".p\",\"wb\"), protocol=4)\n",
        "\n",
        "def openfromfile(filename):\n",
        "    temp = pickle.load(open(filename+\".p\",\"rb\"))\n",
        "    return temp"
      ],
      "execution_count": 0,
      "outputs": []
    },
    {
      "cell_type": "code",
      "metadata": {
        "id": "iFFRRQNw0eyH",
        "colab_type": "code",
        "colab": {}
      },
      "source": [
        "train = pd.read_csv('train.csv')\n",
        "cv = pd.read_csv('cv.csv')\n",
        "test = pd.read_csv('test.csv')"
      ],
      "execution_count": 0,
      "outputs": []
    },
    {
      "cell_type": "code",
      "metadata": {
        "id": "PY3iNhoh0sie",
        "colab_type": "code",
        "outputId": "9ba3339c-037f-402c-e747-22dab6c184cc",
        "colab": {
          "base_uri": "https://localhost:8080/",
          "height": 306
        }
      },
      "source": [
        "train.info()"
      ],
      "execution_count": 0,
      "outputs": [
        {
          "output_type": "stream",
          "text": [
            "<class 'pandas.core.frame.DataFrame'>\n",
            "RangeIndex: 800000 entries, 0 to 799999\n",
            "Data columns (total 10 columns):\n",
            " #   Column          Non-Null Count   Dtype \n",
            "---  ------          --------------   ----- \n",
            " 0   label           800000 non-null  int64 \n",
            " 1   comment         799972 non-null  object\n",
            " 2   author          800000 non-null  object\n",
            " 3   subreddit       800000 non-null  object\n",
            " 4   score           800000 non-null  int64 \n",
            " 5   ups             800000 non-null  int64 \n",
            " 6   downs           800000 non-null  int64 \n",
            " 7   date            800000 non-null  object\n",
            " 8   created_utc     800000 non-null  object\n",
            " 9   parent_comment  800000 non-null  object\n",
            "dtypes: int64(4), object(6)\n",
            "memory usage: 61.0+ MB\n"
          ],
          "name": "stdout"
        }
      ]
    },
    {
      "cell_type": "code",
      "metadata": {
        "id": "U_JlfbIj0yAN",
        "colab_type": "code",
        "outputId": "948328b1-02b8-400c-e031-b86e9cc91a50",
        "colab": {
          "base_uri": "https://localhost:8080/",
          "height": 34
        }
      },
      "source": [
        "train.shape"
      ],
      "execution_count": 0,
      "outputs": [
        {
          "output_type": "execute_result",
          "data": {
            "text/plain": [
              "(800000, 10)"
            ]
          },
          "metadata": {
            "tags": []
          },
          "execution_count": 22
        }
      ]
    },
    {
      "cell_type": "code",
      "metadata": {
        "id": "8ciptpyn00IP",
        "colab_type": "code",
        "outputId": "ed942fdc-1839-4d1e-9d83-7498a74eb099",
        "colab": {
          "base_uri": "https://localhost:8080/",
          "height": 68
        }
      },
      "source": [
        "train['label'].value_counts()"
      ],
      "execution_count": 0,
      "outputs": [
        {
          "output_type": "execute_result",
          "data": {
            "text/plain": [
              "1    400000\n",
              "0    400000\n",
              "Name: label, dtype: int64"
            ]
          },
          "metadata": {
            "tags": []
          },
          "execution_count": 23
        }
      ]
    },
    {
      "cell_type": "code",
      "metadata": {
        "id": "TXS-3xXJ07cd",
        "colab_type": "code",
        "outputId": "81dcf2be-76bc-454a-e481-43b269dc51dc",
        "colab": {
          "base_uri": "https://localhost:8080/",
          "height": 34
        }
      },
      "source": [
        "len(train['subreddit'].unique())"
      ],
      "execution_count": 0,
      "outputs": [
        {
          "output_type": "execute_result",
          "data": {
            "text/plain": [
              "13432"
            ]
          },
          "metadata": {
            "tags": []
          },
          "execution_count": 24
        }
      ]
    },
    {
      "cell_type": "code",
      "metadata": {
        "id": "js5D3rJp0-06",
        "colab_type": "code",
        "outputId": "f581d77a-8628-4d29-ea72-c34e7c8ef71c",
        "colab": {
          "base_uri": "https://localhost:8080/",
          "height": 374
        }
      },
      "source": [
        "train[train['label'] == 1]['subreddit'].value_counts()[:20]"
      ],
      "execution_count": 0,
      "outputs": [
        {
          "output_type": "execute_result",
          "data": {
            "text/plain": [
              "AskReddit          20088\n",
              "politics           18080\n",
              "worldnews          12470\n",
              "pcmasterrace        9671\n",
              "leagueoflegends     9333\n",
              "news                8495\n",
              "GlobalOffensive     7251\n",
              "nba                 5831\n",
              "nfl                 5815\n",
              "todayilearned       5514\n",
              "pics                4984\n",
              "funny               4853\n",
              "AdviceAnimals       4614\n",
              "The_Donald          4458\n",
              "videos              4350\n",
              "TumblrInAction      3861\n",
              "hockey              3797\n",
              "gaming              3570\n",
              "soccer              3361\n",
              "CFB                 2730\n",
              "Name: subreddit, dtype: int64"
            ]
          },
          "metadata": {
            "tags": []
          },
          "execution_count": 25
        }
      ]
    },
    {
      "cell_type": "markdown",
      "metadata": {
        "id": "Oz1c293n1LtK",
        "colab_type": "text"
      },
      "source": [
        "There are a total of 13432 different subreddits in our dataset.\n",
        "Top 20 subreddits having sarcastic comments include AskReddit, politics, worldnews, etc."
      ]
    },
    {
      "cell_type": "code",
      "metadata": {
        "id": "jw3hMe1b1CfV",
        "colab_type": "code",
        "outputId": "aaf7529e-6d2c-4a7e-ba90-f7185d080df5",
        "colab": {
          "base_uri": "https://localhost:8080/",
          "height": 34
        }
      },
      "source": [
        "len(train['author'].unique())"
      ],
      "execution_count": 0,
      "outputs": [
        {
          "output_type": "execute_result",
          "data": {
            "text/plain": [
              "228956"
            ]
          },
          "metadata": {
            "tags": []
          },
          "execution_count": 26
        }
      ]
    },
    {
      "cell_type": "code",
      "metadata": {
        "id": "ZuRyUCzI1T23",
        "colab_type": "code",
        "outputId": "7a43a7bf-c38e-4d9a-87ae-50982dc81964",
        "colab": {
          "base_uri": "https://localhost:8080/",
          "height": 374
        }
      },
      "source": [
        "train[train['label'] == 1]['author'].value_counts()[:20]"
      ],
      "execution_count": 0,
      "outputs": [
        {
          "output_type": "execute_result",
          "data": {
            "text/plain": [
              "Biffingston          219\n",
              "pokemon_fetish       213\n",
              "ShyBiDude89          187\n",
              "NeonDisease          179\n",
              "ivsciguy             161\n",
              "mad-n-fla            150\n",
              "mindlessrabble       129\n",
              "sleaze_bag_alert     125\n",
              "Chaoslab             123\n",
              "JumpingJazzJam        97\n",
              "DownvoteDaemon        94\n",
              "EMINEM_4Evah          92\n",
              "richardleosimones     84\n",
              "InFearn0              82\n",
              "TouchMeHerePls        79\n",
              "kurisu7885            77\n",
              "tau-lepton            76\n",
              "Canada_girl           72\n",
              "ozric101              72\n",
              "hookyboysb            71\n",
              "Name: author, dtype: int64"
            ]
          },
          "metadata": {
            "tags": []
          },
          "execution_count": 27
        }
      ]
    },
    {
      "cell_type": "code",
      "metadata": {
        "id": "P8Y7j-2R1XXn",
        "colab_type": "code",
        "outputId": "f03a4d7d-0db7-4626-dfc8-c05776b79003",
        "colab": {
          "base_uri": "https://localhost:8080/",
          "height": 122
        }
      },
      "source": [
        "pip install Unidecode"
      ],
      "execution_count": 0,
      "outputs": [
        {
          "output_type": "stream",
          "text": [
            "Collecting Unidecode\n",
            "\u001b[?25l  Downloading https://files.pythonhosted.org/packages/d0/42/d9edfed04228bacea2d824904cae367ee9efd05e6cce7ceaaedd0b0ad964/Unidecode-1.1.1-py2.py3-none-any.whl (238kB)\n",
            "\r\u001b[K     |█▍                              | 10kB 16.2MB/s eta 0:00:01\r\u001b[K     |██▊                             | 20kB 1.1MB/s eta 0:00:01\r\u001b[K     |████▏                           | 30kB 1.5MB/s eta 0:00:01\r\u001b[K     |█████▌                          | 40kB 1.7MB/s eta 0:00:01\r\u001b[K     |██████▉                         | 51kB 1.3MB/s eta 0:00:01\r\u001b[K     |████████▎                       | 61kB 1.5MB/s eta 0:00:01\r\u001b[K     |█████████▋                      | 71kB 1.6MB/s eta 0:00:01\r\u001b[K     |███████████                     | 81kB 1.8MB/s eta 0:00:01\r\u001b[K     |████████████▍                   | 92kB 1.9MB/s eta 0:00:01\r\u001b[K     |█████████████▊                  | 102kB 1.8MB/s eta 0:00:01\r\u001b[K     |███████████████▏                | 112kB 1.8MB/s eta 0:00:01\r\u001b[K     |████████████████▌               | 122kB 1.8MB/s eta 0:00:01\r\u001b[K     |█████████████████▉              | 133kB 1.8MB/s eta 0:00:01\r\u001b[K     |███████████████████▎            | 143kB 1.8MB/s eta 0:00:01\r\u001b[K     |████████████████████▋           | 153kB 1.8MB/s eta 0:00:01\r\u001b[K     |██████████████████████          | 163kB 1.8MB/s eta 0:00:01\r\u001b[K     |███████████████████████▍        | 174kB 1.8MB/s eta 0:00:01\r\u001b[K     |████████████████████████▊       | 184kB 1.8MB/s eta 0:00:01\r\u001b[K     |██████████████████████████▏     | 194kB 1.8MB/s eta 0:00:01\r\u001b[K     |███████████████████████████▌    | 204kB 1.8MB/s eta 0:00:01\r\u001b[K     |████████████████████████████▉   | 215kB 1.8MB/s eta 0:00:01\r\u001b[K     |██████████████████████████████▎ | 225kB 1.8MB/s eta 0:00:01\r\u001b[K     |███████████████████████████████▋| 235kB 1.8MB/s eta 0:00:01\r\u001b[K     |████████████████████████████████| 245kB 1.8MB/s \n",
            "\u001b[?25hInstalling collected packages: Unidecode\n",
            "Successfully installed Unidecode-1.1.1\n"
          ],
          "name": "stdout"
        }
      ]
    },
    {
      "cell_type": "code",
      "metadata": {
        "id": "TfGuGvRQ1s2a",
        "colab_type": "code",
        "colab": {}
      },
      "source": [
        "import re\n",
        "import sys"
      ],
      "execution_count": 0,
      "outputs": []
    },
    {
      "cell_type": "code",
      "metadata": {
        "id": "goz9mfOU2ZGG",
        "colab_type": "code",
        "colab": {}
      },
      "source": [
        "def remove_emoji(string):\n",
        "    emoji_pattern = re.compile(\"[\"\n",
        "                           u\"\\U0001F600-\\U0001F64F\"  # emoticons\n",
        "                           u\"\\U0001F300-\\U0001F5FF\"  # symbols & pictographs\n",
        "                           u\"\\U0001F680-\\U0001F6FF\"  # transport & map symbols\n",
        "                           u\"\\U0001F1E0-\\U0001F1FF\"  # flags (iOS)\n",
        "                           u\"\\U00002702-\\U000027B0\"\n",
        "                           u\"\\U000024C2-\\U0001F251\"\n",
        "                           \"]+\", flags=re.UNICODE)\n",
        "    return emoji_pattern.sub(r'', string)\n",
        " "
      ],
      "execution_count": 0,
      "outputs": []
    },
    {
      "cell_type": "code",
      "metadata": {
        "id": "3sQeZ2y_40jN",
        "colab_type": "code",
        "colab": {}
      },
      "source": [
        "def removeLinks(text):\n",
        "    text = re.sub(r'http\\S+', '', text, flags=re.MULTILINE)\n",
        "    return text\n",
        "\n",
        "def removeHTMLTags(text):\n",
        "    text = re.sub(r'<.*?>', '', text, flags=re.MULTILINE)\n",
        "    return text\n",
        "\n",
        "def convertToLowerCase(text):\n",
        "    return text.lower()\n",
        "\n",
        "def removeWordsWithNumbers(text):\n",
        "    return re.sub(r'\\S*\\d\\S*', '', text).strip()\n",
        "\n",
        "def removePuctuations(text):\n",
        "    return re.sub(r'[^A-Za-z0-9]+', ' ', text)\n",
        "\n",
        "def removeWhiteSpaces(text):\n",
        "    return text.strip()\n",
        "\n",
        "def decontracted(phrase):\n",
        "    \n",
        "    # specific\n",
        "    phrase = re.sub(r\"won\\'t\", \"will not\", phrase)\n",
        "    phrase = re.sub(r\"can\\'t\", \"can not\", phrase)\n",
        "\n",
        "    # general\n",
        "    phrase = re.sub(r\"n\\'t\", \" not\", phrase)\n",
        "    phrase = re.sub(r\"\\'re\", \" are\", phrase)\n",
        "    phrase = re.sub(r\"\\'s\", \" is\", phrase)\n",
        "    phrase = re.sub(r\"\\'d\", \" would\", phrase)\n",
        "    phrase = re.sub(r\"\\'ll\", \" will\", phrase)\n",
        "    phrase = re.sub(r\"\\'t\", \" not\", phrase)\n",
        "    phrase = re.sub(r\"\\'ve\", \" have\", phrase)\n",
        "    phrase = re.sub(r\"\\'m\", \" am\", phrase)\n",
        "    return phrase\n",
        "\n",
        "\n",
        "def remove_emoji(string):\n",
        "    emoji_pattern = re.compile(\"[\"\n",
        "                           u\"\\U0001F600-\\U0001F64F\"  # emoticons\n",
        "                           u\"\\U0001F300-\\U0001F5FF\"  # symbols & pictographs\n",
        "                           u\"\\U0001F680-\\U0001F6FF\"  # transport & map symbols\n",
        "                           u\"\\U0001F1E0-\\U0001F1FF\"  # flags (iOS)\n",
        "                           u\"\\U00002702-\\U000027B0\"\n",
        "                           u\"\\U000024C2-\\U0001F251\"\n",
        "                           \"]+\", flags=re.UNICODE)\n",
        "    return emoji_pattern.sub(r'', string)\n"
      ],
      "execution_count": 0,
      "outputs": []
    },
    {
      "cell_type": "code",
      "metadata": {
        "id": "mLwnDJZz5p9m",
        "colab_type": "code",
        "colab": {}
      },
      "source": [
        "\n",
        "def clean_data(text):\n",
        "    \n",
        "    text = str(text)\n",
        "    text = removeLinks(text)\n",
        "    text = removeHTMLTags(text)\n",
        "    text = convertToLowerCase(text)\n",
        "    text = removeWordsWithNumbers(text)\n",
        "    text = removeWhiteSpaces(text)\n",
        "    text = decontracted(text)\n",
        "    text = removePuctuations(text)\n",
        "    text = remove_emoji(text)\n",
        "    text = text.strip()\n",
        "    \n",
        "    return text"
      ],
      "execution_count": 0,
      "outputs": []
    },
    {
      "cell_type": "code",
      "metadata": {
        "id": "k0mJVBQw5x3V",
        "colab_type": "code",
        "colab": {}
      },
      "source": [
        "cleaned_train = train.dropna(how='any', axis=0)\n",
        "cleaned_train['comment'] = cleaned_train['comment'].apply(clean_data)\n",
        "cleaned_train['author'] = cleaned_train['author'].apply(removeWhiteSpaces)\n",
        "\n",
        "cleaned_cv = cv.dropna(how='any', axis=0)\n",
        "cleaned_cv['comment'] = cleaned_cv['comment'].apply(clean_data)\n",
        "cleaned_cv['author'] = cleaned_cv['author'].apply(removeWhiteSpaces)\n",
        "\n",
        "cleaned_test = test.dropna(how='any', axis=0)\n",
        "cleaned_test['comment'] = cleaned_test['comment'].apply(clean_data)\n",
        "cleaned_test['author'] = cleaned_test['author'].apply(removeWhiteSpaces)"
      ],
      "execution_count": 0,
      "outputs": []
    },
    {
      "cell_type": "code",
      "metadata": {
        "id": "XHZ-FaGe52Tc",
        "colab_type": "code",
        "outputId": "3f3b1eb5-5260-4704-e4e2-dd4117420791",
        "colab": {
          "base_uri": "https://localhost:8080/",
          "height": 54
        }
      },
      "source": [
        "#testing\n",
        "train['comment'].iloc[56]"
      ],
      "execution_count": 0,
      "outputs": [
        {
          "output_type": "execute_result",
          "data": {
            "text/plain": [
              "\"you know, if I were a pro, I'd practice 16 hours a day for 5 years straight, especially after single handedly throwing the world championship away after being carried to the group stage.\""
            ]
          },
          "metadata": {
            "tags": []
          },
          "execution_count": 53
        }
      ]
    },
    {
      "cell_type": "code",
      "metadata": {
        "id": "c3SF0nEGD9vq",
        "colab_type": "code",
        "outputId": "9d3225da-50a7-458e-b8d6-6fde1fb96042",
        "colab": {
          "base_uri": "https://localhost:8080/",
          "height": 54
        }
      },
      "source": [
        "#testing\n",
        "cleaned_train['comment'].iloc[56]"
      ],
      "execution_count": 0,
      "outputs": [
        {
          "output_type": "execute_result",
          "data": {
            "text/plain": [
              "'you know if i were a pro i would practice hours a day for years straight especially after single handedly throwing the world championship away after being carried to the group stage'"
            ]
          },
          "metadata": {
            "tags": []
          },
          "execution_count": 54
        }
      ]
    },
    {
      "cell_type": "code",
      "metadata": {
        "id": "oXZ18ZVXEEFx",
        "colab_type": "code",
        "colab": {}
      },
      "source": [
        "cleaned_train['comment'] = cleaned_train['comment'].astype(str)\n",
        "cleaned_cv['comment'] = cleaned_cv['comment'].astype(str)\n",
        "cleaned_test['comment'] = cleaned_test['comment'].astype(str)\n",
        "\n",
        "cleaned_train['author'] = cleaned_train['author'].astype(str)\n",
        "cleaned_cv['author'] = cleaned_cv['author'].astype(str)\n",
        "cleaned_test['author'] = cleaned_test['author'].astype(str)"
      ],
      "execution_count": 0,
      "outputs": []
    },
    {
      "cell_type": "code",
      "metadata": {
        "id": "BrkrNkklEYBK",
        "colab_type": "code",
        "colab": {}
      },
      "source": [
        "cleaned_train.to_csv('train.csv', index=None)\n",
        "cleaned_cv.to_csv('cv.csv', index=None)\n",
        "cleaned_test.to_csv('test.csv', index=None)"
      ],
      "execution_count": 0,
      "outputs": []
    },
    {
      "cell_type": "code",
      "metadata": {
        "id": "ompYL5jMEgWE",
        "colab_type": "code",
        "outputId": "8b9ba5c5-6b09-4023-f6f2-d52233c25f3e",
        "colab": {
          "base_uri": "https://localhost:8080/",
          "height": 34
        }
      },
      "source": [
        "# Ta-Daaaa, time for modeling phase!!\n",
        "\n",
        "#importing libraries\n",
        "\n",
        "from time import time\n",
        "from tqdm import tqdm_notebook\n",
        "import matplotlib.pyplot as plt\n",
        "import seaborn as sns\n",
        "import pickle\n",
        "\n",
        "from sklearn.linear_model import SGDClassifier\n",
        "from sklearn.calibration import CalibratedClassifierCV\n",
        "from sklearn.metrics import f1_score\n",
        "from sklearn.metrics import confusion_matrix\n",
        "\n",
        "from keras.regularizers import l2\n",
        "from keras.utils import to_categorical\n",
        "from keras.preprocessing.text import Tokenizer\n",
        "from keras.preprocessing.sequence import pad_sequences\n",
        "from keras.models import Model, load_model\n",
        "from keras.layers import Dense, Input, Flatten, Embedding, Conv1D, MaxPooling1D, Dropout, BatchNormalization, Activation, concatenate\n",
        "from keras import backend as K\n",
        "from keras.callbacks import ModelCheckpoint, TensorBoard, EarlyStopping, ReduceLROnPlateau\n",
        "from keras import optimizers\n",
        "\n",
        "import keras\n",
        "from keras.utils import plot_model\n",
        "import tensorflow_hub as hub\n",
        "import tensorflow as tf\n",
        "\n",
        "import pydotplus as pyd\n",
        "\n",
        "import gensim\n",
        "from gensim.models import Word2Vec\n",
        "from gensim.models import KeyedVectors\n",
        "\n",
        "import warnings\n",
        "warnings.filterwarnings('ignore')\n",
        "\n",
        "%matplotlib inline"
      ],
      "execution_count": 0,
      "outputs": [
        {
          "output_type": "stream",
          "text": [
            "Using TensorFlow backend.\n"
          ],
          "name": "stderr"
        }
      ]
    },
    {
      "cell_type": "code",
      "metadata": {
        "id": "oH4nhNZtFw4U",
        "colab_type": "code",
        "colab": {}
      },
      "source": [
        "def savetofile(obj,filename):\n",
        "    pickle.dump(obj,open(filename+\".p\",\"wb\"), protocol=4)\n",
        "\n",
        "def openfromfile(filename):\n",
        "    temp = pickle.load(open(filename+\".p\",\"rb\"))\n",
        "    return temp"
      ],
      "execution_count": 0,
      "outputs": []
    },
    {
      "cell_type": "code",
      "metadata": {
        "id": "xma0AuNoF4qM",
        "colab_type": "code",
        "outputId": "fa57f8b4-000d-49e8-dc56-16f3688ce24c",
        "colab": {
          "base_uri": "https://localhost:8080/",
          "height": 289
        }
      },
      "source": [
        "train = pd.read_csv('train.csv')\n",
        "cv = pd.read_csv('cv.csv')\n",
        "test = pd.read_csv('test.csv')\n",
        "\n",
        "#Checking if it's clean as I saved it\n",
        "train.head()"
      ],
      "execution_count": 0,
      "outputs": [
        {
          "output_type": "execute_result",
          "data": {
            "text/html": [
              "<div>\n",
              "<style scoped>\n",
              "    .dataframe tbody tr th:only-of-type {\n",
              "        vertical-align: middle;\n",
              "    }\n",
              "\n",
              "    .dataframe tbody tr th {\n",
              "        vertical-align: top;\n",
              "    }\n",
              "\n",
              "    .dataframe thead th {\n",
              "        text-align: right;\n",
              "    }\n",
              "</style>\n",
              "<table border=\"1\" class=\"dataframe\">\n",
              "  <thead>\n",
              "    <tr style=\"text-align: right;\">\n",
              "      <th></th>\n",
              "      <th>label</th>\n",
              "      <th>comment</th>\n",
              "      <th>author</th>\n",
              "      <th>subreddit</th>\n",
              "      <th>score</th>\n",
              "      <th>ups</th>\n",
              "      <th>downs</th>\n",
              "      <th>date</th>\n",
              "      <th>created_utc</th>\n",
              "      <th>parent_comment</th>\n",
              "    </tr>\n",
              "  </thead>\n",
              "  <tbody>\n",
              "    <tr>\n",
              "      <th>0</th>\n",
              "      <td>1</td>\n",
              "      <td>but they will have all those reviews</td>\n",
              "      <td>RoguishPoppet</td>\n",
              "      <td>ProductTesting</td>\n",
              "      <td>0</td>\n",
              "      <td>-1</td>\n",
              "      <td>-1</td>\n",
              "      <td>2016-11</td>\n",
              "      <td>2016-11-01 02:04:59</td>\n",
              "      <td>The dumb thing is, they are risking their sell...</td>\n",
              "    </tr>\n",
              "    <tr>\n",
              "      <th>1</th>\n",
              "      <td>1</td>\n",
              "      <td>wow it is totally unreasonable to assume that ...</td>\n",
              "      <td>pb2crazy</td>\n",
              "      <td>politics</td>\n",
              "      <td>2</td>\n",
              "      <td>-1</td>\n",
              "      <td>-1</td>\n",
              "      <td>2016-11</td>\n",
              "      <td>2016-11-01 02:42:11</td>\n",
              "      <td>Clinton campaign accuses FBI of 'blatant doubl...</td>\n",
              "    </tr>\n",
              "    <tr>\n",
              "      <th>2</th>\n",
              "      <td>1</td>\n",
              "      <td>ho ho ho but melania said that there is no way...</td>\n",
              "      <td>pb2crazy</td>\n",
              "      <td>politics</td>\n",
              "      <td>8</td>\n",
              "      <td>-1</td>\n",
              "      <td>-1</td>\n",
              "      <td>2016-10</td>\n",
              "      <td>2016-10-18 16:20:53</td>\n",
              "      <td>Anyone else think that it was interesting the ...</td>\n",
              "    </tr>\n",
              "    <tr>\n",
              "      <th>3</th>\n",
              "      <td>1</td>\n",
              "      <td>i can not wait until potus starts a twitter wa...</td>\n",
              "      <td>kitduncan</td>\n",
              "      <td>politics</td>\n",
              "      <td>3</td>\n",
              "      <td>-1</td>\n",
              "      <td>-1</td>\n",
              "      <td>2016-11</td>\n",
              "      <td>2016-11-01 03:22:33</td>\n",
              "      <td>Here's what happens when Obama gives up his Tw...</td>\n",
              "    </tr>\n",
              "    <tr>\n",
              "      <th>4</th>\n",
              "      <td>1</td>\n",
              "      <td>gotta love the teachers who give exams on the ...</td>\n",
              "      <td>DEP61</td>\n",
              "      <td>CFBOffTopic</td>\n",
              "      <td>3</td>\n",
              "      <td>-1</td>\n",
              "      <td>-1</td>\n",
              "      <td>2016-11</td>\n",
              "      <td>2016-11-01 03:30:11</td>\n",
              "      <td>Monday night Drinking thread Brought to You by...</td>\n",
              "    </tr>\n",
              "  </tbody>\n",
              "</table>\n",
              "</div>"
            ],
            "text/plain": [
              "   label  ...                                     parent_comment\n",
              "0      1  ...  The dumb thing is, they are risking their sell...\n",
              "1      1  ...  Clinton campaign accuses FBI of 'blatant doubl...\n",
              "2      1  ...  Anyone else think that it was interesting the ...\n",
              "3      1  ...  Here's what happens when Obama gives up his Tw...\n",
              "4      1  ...  Monday night Drinking thread Brought to You by...\n",
              "\n",
              "[5 rows x 10 columns]"
            ]
          },
          "metadata": {
            "tags": []
          },
          "execution_count": 59
        }
      ]
    },
    {
      "cell_type": "code",
      "metadata": {
        "id": "C_fF5jSRGTMX",
        "colab_type": "code",
        "outputId": "017046d5-1e8f-45ce-de83-d77e0e6fe359",
        "colab": {
          "base_uri": "https://localhost:8080/",
          "height": 68
        }
      },
      "source": [
        "train['label'].value_counts()"
      ],
      "execution_count": 0,
      "outputs": [
        {
          "output_type": "execute_result",
          "data": {
            "text/plain": [
              "0    399994\n",
              "1    399978\n",
              "Name: label, dtype: int64"
            ]
          },
          "metadata": {
            "tags": []
          },
          "execution_count": 60
        }
      ]
    },
    {
      "cell_type": "code",
      "metadata": {
        "id": "ddUKT-YVGjMM",
        "colab_type": "code",
        "outputId": "d7c92b21-10b6-4a68-d4ba-7293f8958934",
        "colab": {
          "base_uri": "https://localhost:8080/",
          "height": 68
        }
      },
      "source": [
        "test['label'].value_counts()"
      ],
      "execution_count": 0,
      "outputs": [
        {
          "output_type": "execute_result",
          "data": {
            "text/plain": [
              "0    49999\n",
              "1    49984\n",
              "Name: label, dtype: int64"
            ]
          },
          "metadata": {
            "tags": []
          },
          "execution_count": 61
        }
      ]
    },
    {
      "cell_type": "code",
      "metadata": {
        "id": "C8WioFSbGmla",
        "colab_type": "code",
        "colab": {}
      },
      "source": [
        "train['comment'] = train['comment'].astype(str)\n",
        "cv['comment'] = cv['comment'].astype(str)\n",
        "test['comment'] = test['comment'].astype(str)\n",
        "\n",
        "train['author'] = train['author'].astype(str)\n",
        "cv['author'] = cv['author'].astype(str)\n",
        "test['author'] = test['author'].astype(str)"
      ],
      "execution_count": 0,
      "outputs": []
    },
    {
      "cell_type": "code",
      "metadata": {
        "id": "XgwnHDU7HGXi",
        "colab_type": "code",
        "outputId": "2e11afd4-7900-47fd-f532-79e5177bafaf",
        "colab": {
          "base_uri": "https://localhost:8080/",
          "height": 34
        }
      },
      "source": [
        "t = Tokenizer()\n",
        "t.fit_on_texts(train['comment'].values)\n",
        "vocab_size = len(t.word_index) + 1\n",
        "print(vocab_size)"
      ],
      "execution_count": 0,
      "outputs": [
        {
          "output_type": "stream",
          "text": [
            "138775\n"
          ],
          "name": "stdout"
        }
      ]
    },
    {
      "cell_type": "code",
      "metadata": {
        "id": "IHFEPUx1HJlH",
        "colab_type": "code",
        "colab": {}
      },
      "source": [
        "encoded_comments_train = t.texts_to_sequences(train['comment'])\n",
        "encoded_comments_cv = t.texts_to_sequences(cv['comment'])\n",
        "encoded_comments_test = t.texts_to_sequences(test['comment'])"
      ],
      "execution_count": 0,
      "outputs": []
    },
    {
      "cell_type": "code",
      "metadata": {
        "id": "kgTx-HRQHsVd",
        "colab_type": "code",
        "colab": {}
      },
      "source": [
        "lengths = []\n",
        "\n",
        "for doc in encoded_comments_train:\n",
        "    lengths.append(len(doc))"
      ],
      "execution_count": 0,
      "outputs": []
    },
    {
      "cell_type": "code",
      "metadata": {
        "id": "9RFU_mvUH06K",
        "colab_type": "code",
        "outputId": "ebbf0af2-f7e2-47b3-f2a2-6a8c3f5be28e",
        "colab": {
          "base_uri": "https://localhost:8080/",
          "height": 34
        }
      },
      "source": [
        "np.percentile(lengths, 99.9)"
      ],
      "execution_count": 0,
      "outputs": [
        {
          "output_type": "execute_result",
          "data": {
            "text/plain": [
              "66.0"
            ]
          },
          "metadata": {
            "tags": []
          },
          "execution_count": 66
        }
      ]
    },
    {
      "cell_type": "code",
      "metadata": {
        "id": "zXNGq3SLH3s9",
        "colab_type": "code",
        "colab": {}
      },
      "source": [
        "max_length = 70\n",
        "padded_comments_train = pad_sequences(encoded_comments_train, maxlen=max_length, padding='post')\n",
        "padded_comments_cv = pad_sequences(encoded_comments_cv, maxlen=max_length, padding='post')\n",
        "padded_comments_test = pad_sequences(encoded_comments_test, maxlen=max_length, padding='post')"
      ],
      "execution_count": 0,
      "outputs": []
    },
    {
      "cell_type": "code",
      "metadata": {
        "id": "HoAzmlQtH68o",
        "colab_type": "code",
        "colab": {}
      },
      "source": [
        "y_train = train['label'].values\n",
        "y_cv = cv['label'].values\n",
        "y_test = test['label'].values\n",
        "\n",
        "y_train = to_categorical(y_train, num_classes=2)\n",
        "y_cv = to_categorical(y_cv, num_classes=2)\n",
        "y_test = to_categorical(y_test, num_classes=2)"
      ],
      "execution_count": 0,
      "outputs": []
    },
    {
      "cell_type": "code",
      "metadata": {
        "id": "fXVVIdijIVE0",
        "colab_type": "code",
        "colab": {}
      },
      "source": [
        "w2v_model = KeyedVectors.load_word2vec_format('https://s3.amazonaws.com/dl4j-distribution/GoogleNews-vectors-negative300.bin.gz', binary=True)\n"
      ],
      "execution_count": 0,
      "outputs": []
    },
    {
      "cell_type": "code",
      "metadata": {
        "id": "jdzZ7xILKsj6",
        "colab_type": "code",
        "outputId": "4d140caf-846d-4755-ce36-63f676287199",
        "colab": {
          "base_uri": "https://localhost:8080/",
          "height": 34
        }
      },
      "source": [
        "# create a weight matrix for words in training docs\n",
        "embedding_matrix_w2v = np.zeros((vocab_size, 300))\n",
        "for word, i in t.word_index.items():\n",
        "    try:\n",
        "        embedding_vector = w2v_model[word]\n",
        "    except:\n",
        "        embedding_vector = [0]*300\n",
        "    \n",
        "    if embedding_vector is not None:\n",
        "        embedding_matrix_w2v[i] = embedding_vector\n",
        "        \n",
        "embedding_matrix_w2v.shape"
      ],
      "execution_count": 0,
      "outputs": [
        {
          "output_type": "execute_result",
          "data": {
            "text/plain": [
              "(138775, 300)"
            ]
          },
          "metadata": {
            "tags": []
          },
          "execution_count": 79
        }
      ]
    },
    {
      "cell_type": "code",
      "metadata": {
        "id": "XzmMsiLOLRjh",
        "colab_type": "code",
        "colab": {}
      },
      "source": [
        "def recall_m(y_true, y_pred):\n",
        "        true_positives = K.sum(K.round(K.clip(y_true * y_pred, 0, 1)))\n",
        "        possible_positives = K.sum(K.round(K.clip(y_true, 0, 1)))\n",
        "        recall = true_positives / (possible_positives + K.epsilon())\n",
        "        return recall\n",
        "\n",
        "def precision_m(y_true, y_pred):\n",
        "        true_positives = K.sum(K.round(K.clip(y_true * y_pred, 0, 1)))\n",
        "        predicted_positives = K.sum(K.round(K.clip(y_pred, 0, 1)))\n",
        "        precision = true_positives / (predicted_positives + K.epsilon())\n",
        "        return precision\n",
        "\n",
        "def f1_m(y_true, y_pred):\n",
        "    precision = precision_m(y_true, y_pred)\n",
        "    recall = recall_m(y_true, y_pred)\n",
        "    return 2*((precision*recall)/(precision+recall+K.epsilon()))"
      ],
      "execution_count": 0,
      "outputs": []
    },
    {
      "cell_type": "markdown",
      "metadata": {
        "id": "ttiTvjBsVJht",
        "colab_type": "text"
      },
      "source": [
        "**Model 1 - Baseline**"
      ]
    },
    {
      "cell_type": "code",
      "metadata": {
        "id": "ajDzc141LYGO",
        "colab_type": "code",
        "outputId": "1134745b-8e19-48b9-9824-ae6b52665cfe",
        "colab": {
          "base_uri": "https://localhost:8080/",
          "height": 476
        }
      },
      "source": [
        "input_data = Input(shape=(max_length,), name='main_input')\n",
        "embedding_layer = Embedding(vocab_size, 300, weights=[embedding_matrix_w2v], trainable=False)(input_data)\n",
        "conv_1 = Conv1D(filters=50, kernel_size=4, activation='relu')(embedding_layer)\n",
        "max_1 = MaxPooling1D(pool_size=2)(conv_1)\n",
        "conv_2 = Conv1D(filters=100, kernel_size=3, activation='relu')(max_1)\n",
        "max_2 = MaxPooling1D(pool_size=2)(conv_2)\n",
        "flatten = Flatten()(max_2)\n",
        "dense = Dense(100, activation='relu', name='fully_connected')(flatten)\n",
        "out = Dense(2, activation='softmax')(dense)\n",
        "\n",
        "model_01 = Model(inputs=[input_data], outputs=[out])\n",
        "\n",
        "print(model_01.summary())"
      ],
      "execution_count": 0,
      "outputs": [
        {
          "output_type": "stream",
          "text": [
            "Model: \"model_2\"\n",
            "_________________________________________________________________\n",
            "Layer (type)                 Output Shape              Param #   \n",
            "=================================================================\n",
            "main_input (InputLayer)      (None, 70)                0         \n",
            "_________________________________________________________________\n",
            "embedding_2 (Embedding)      (None, 70, 300)           41632500  \n",
            "_________________________________________________________________\n",
            "conv1d_3 (Conv1D)            (None, 67, 50)            60050     \n",
            "_________________________________________________________________\n",
            "max_pooling1d_3 (MaxPooling1 (None, 33, 50)            0         \n",
            "_________________________________________________________________\n",
            "conv1d_4 (Conv1D)            (None, 31, 100)           15100     \n",
            "_________________________________________________________________\n",
            "max_pooling1d_4 (MaxPooling1 (None, 15, 100)           0         \n",
            "_________________________________________________________________\n",
            "flatten_2 (Flatten)          (None, 1500)              0         \n",
            "_________________________________________________________________\n",
            "fully_connected (Dense)      (None, 100)               150100    \n",
            "_________________________________________________________________\n",
            "dense_2 (Dense)              (None, 2)                 202       \n",
            "=================================================================\n",
            "Total params: 41,857,952\n",
            "Trainable params: 225,452\n",
            "Non-trainable params: 41,632,500\n",
            "_________________________________________________________________\n",
            "None\n"
          ],
          "name": "stdout"
        }
      ]
    },
    {
      "cell_type": "code",
      "metadata": {
        "id": "iEg-c805VTNs",
        "colab_type": "code",
        "outputId": "b06711be-85a1-4554-c4c0-4ba50f37a96a",
        "colab": {
          "base_uri": "https://localhost:8080/",
          "height": 856
        }
      },
      "source": [
        "\n",
        "keras.utils.vis_utils.pydot = pyd\n",
        "plot_model(model_01, to_file='model_01.png')"
      ],
      "execution_count": 0,
      "outputs": [
        {
          "output_type": "execute_result",
          "data": {
            "image/png": "[encoded data removed]",
            "text/plain": [
              "<IPython.core.display.Image object>"
            ]
          },
          "metadata": {
            "tags": []
          },
          "execution_count": 88
        }
      ]
    },
    {
      "cell_type": "code",
      "metadata": {
        "id": "ST5tWnoDVhTQ",
        "colab_type": "code",
        "colab": {}
      },
      "source": [
        "tensorboard = TensorBoard(log_dir='model_01')\n",
        "\n",
        "reduce_lr = ReduceLROnPlateau(monitor='val_f1_m', \n",
        "                              mode = 'max', \n",
        "                              factor=0.5, \n",
        "                              patience=5, \n",
        "                              min_lr=0.0001, \n",
        "                              verbose=10)\n",
        "\n",
        "checkpoint = ModelCheckpoint(\"model_01.h5\", \n",
        "                               monitor=\"val_f1_m\", \n",
        "                               mode=\"max\", \n",
        "                               save_best_only = True, \n",
        "                               verbose=1)\n",
        "\n",
        "earlystop = EarlyStopping(monitor = 'val_f1_m', \n",
        "                            mode=\"max\", \n",
        "                            min_delta = 0, \n",
        "                            patience = 10,\n",
        "                            verbose=1)"
      ],
      "execution_count": 0,
      "outputs": []
    },
    {
      "cell_type": "code",
      "metadata": {
        "id": "8lrYtQWsVm3v",
        "colab_type": "code",
        "outputId": "066e3cf9-c655-4a66-cedd-54b4bddaf167",
        "colab": {
          "base_uri": "https://localhost:8080/",
          "height": 663
        }
      },
      "source": [
        "c = optimizers.Adam(lr = 0.0001)\n",
        "model_01.compile(optimizer=c, loss='categorical_crossentropy', metrics=[f1_m, 'acc'])\n",
        "\n",
        "h1 = model_01.fit(padded_comments_train, y_train, \n",
        "               batch_size=64, \n",
        "               epochs=50, \n",
        "               verbose=2, callbacks=[tensorboard, checkpoint, earlystop, reduce_lr], \n",
        "               validation_data=(padded_comments_cv, y_cv))"
      ],
      "execution_count": 0,
      "outputs": [
        {
          "output_type": "stream",
          "text": [
            "Train on 799972 samples, validate on 99994 samples\n",
            "Epoch 1/50\n",
            " - 520s - loss: 0.4997 - f1_m: 0.7533 - acc: 0.7533 - val_loss: 0.5591 - val_f1_m: 0.7162 - val_acc: 0.7162\n",
            "\n",
            "Epoch 00001: val_f1_m improved from -inf to 0.71621, saving model to model_01.h5\n",
            "Epoch 2/50\n",
            " - 515s - loss: 0.4957 - f1_m: 0.7562 - acc: 0.7562 - val_loss: 0.5595 - val_f1_m: 0.7161 - val_acc: 0.7161\n",
            "\n",
            "Epoch 00002: val_f1_m did not improve from 0.71621\n",
            "Epoch 3/50\n",
            " - 514s - loss: 0.4917 - f1_m: 0.7594 - acc: 0.7594 - val_loss: 0.5639 - val_f1_m: 0.7132 - val_acc: 0.7132\n",
            "\n",
            "Epoch 00003: val_f1_m did not improve from 0.71621\n",
            "Epoch 4/50\n",
            " - 518s - loss: 0.4880 - f1_m: 0.7620 - acc: 0.7620 - val_loss: 0.5702 - val_f1_m: 0.7122 - val_acc: 0.7122\n",
            "\n",
            "Epoch 00004: val_f1_m did not improve from 0.71621\n",
            "Epoch 5/50\n",
            " - 512s - loss: 0.4845 - f1_m: 0.7645 - acc: 0.7645 - val_loss: 0.5627 - val_f1_m: 0.7163 - val_acc: 0.7163\n",
            "\n",
            "Epoch 00005: val_f1_m improved from 0.71621 to 0.71628, saving model to model_01.h5\n",
            "Epoch 6/50\n",
            " - 526s - loss: 0.4816 - f1_m: 0.7659 - acc: 0.7659 - val_loss: 0.5697 - val_f1_m: 0.7130 - val_acc: 0.7131\n",
            "\n",
            "Epoch 00006: val_f1_m did not improve from 0.71628\n",
            "Epoch 7/50\n",
            " - 528s - loss: 0.4783 - f1_m: 0.7683 - acc: 0.7683 - val_loss: 0.5745 - val_f1_m: 0.7136 - val_acc: 0.7136\n",
            "\n",
            "Epoch 00007: val_f1_m did not improve from 0.71628\n",
            "Epoch 8/50\n",
            " - 527s - loss: 0.4752 - f1_m: 0.7706 - acc: 0.7706 - val_loss: 0.5818 - val_f1_m: 0.7075 - val_acc: 0.7074\n",
            "\n",
            "Epoch 00008: val_f1_m did not improve from 0.71628\n",
            "Epoch 9/50\n",
            " - 526s - loss: 0.4723 - f1_m: 0.7725 - acc: 0.7725 - val_loss: 0.5815 - val_f1_m: 0.7118 - val_acc: 0.7118\n",
            "\n",
            "Epoch 00009: val_f1_m did not improve from 0.71628\n",
            "Epoch 10/50\n"
          ],
          "name": "stdout"
        }
      ]
    },
    {
      "cell_type": "code",
      "metadata": {
        "id": "PvF50pVuVsQ7",
        "colab_type": "code",
        "colab": {}
      },
      "source": [
        ""
      ],
      "execution_count": 0,
      "outputs": []
    }
  ]
}